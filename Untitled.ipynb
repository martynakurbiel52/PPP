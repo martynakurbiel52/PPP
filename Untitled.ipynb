{
 "cells": [
  {
   "cell_type": "code",
   "execution_count": 11,
   "id": "5325a9f8",
   "metadata": {},
   "outputs": [
    {
     "name": "stdout",
     "output_type": "stream",
     "text": [
      "Requirement already satisfied: orange3 in c:\\users\\admin\\anaconda3\\lib\\site-packages (3.33.0)\n",
      "Requirement already satisfied: openpyxl in c:\\users\\admin\\anaconda3\\lib\\site-packages (from orange3) (3.0.9)\n",
      "Requirement already satisfied: pip>=18.0 in c:\\users\\admin\\anaconda3\\lib\\site-packages (from orange3) (21.2.4)\n",
      "Requirement already satisfied: matplotlib>=3.2.0 in c:\\users\\admin\\anaconda3\\lib\\site-packages (from orange3) (3.4.3)\n",
      "Requirement already satisfied: setuptools>=41.0.0 in c:\\users\\admin\\anaconda3\\lib\\site-packages (from orange3) (58.0.4)\n",
      "Requirement already satisfied: scikit-learn>=1.0.1 in c:\\users\\admin\\anaconda3\\lib\\site-packages (from orange3) (1.1.2)\n",
      "Requirement already satisfied: keyring in c:\\users\\admin\\anaconda3\\lib\\site-packages (from orange3) (23.1.0)\n",
      "Requirement already satisfied: numpy>=1.17.3 in c:\\users\\admin\\anaconda3\\lib\\site-packages (from orange3) (1.20.3)\n",
      "Requirement already satisfied: pandas!=1.5.0,>=1.3.0 in c:\\users\\admin\\anaconda3\\lib\\site-packages (from orange3) (1.3.4)\n",
      "Requirement already satisfied: pygments>=2.8.0 in c:\\users\\admin\\anaconda3\\lib\\site-packages (from orange3) (2.10.0)\n",
      "Requirement already satisfied: scipy>=1.3.1 in c:\\users\\admin\\anaconda3\\lib\\site-packages (from orange3) (1.7.1)\n",
      "Requirement already satisfied: AnyQt>=0.1.0 in c:\\users\\admin\\anaconda3\\lib\\site-packages (from orange3) (0.2.0)\n",
      "Requirement already satisfied: joblib>=0.11 in c:\\users\\admin\\anaconda3\\lib\\site-packages (from orange3) (1.1.0)\n",
      "Requirement already satisfied: xlsxwriter in c:\\users\\admin\\anaconda3\\lib\\site-packages (from orange3) (3.0.1)\n",
      "Requirement already satisfied: networkx in c:\\users\\admin\\anaconda3\\lib\\site-packages (from orange3) (2.6.3)\n",
      "Requirement already satisfied: qtconsole>=4.7.2 in c:\\users\\admin\\anaconda3\\lib\\site-packages (from orange3) (5.1.1)\n",
      "Requirement already satisfied: openTSNE>=0.6.1 in c:\\users\\admin\\anaconda3\\lib\\site-packages (from orange3) (0.6.2)\n",
      "Requirement already satisfied: orange-canvas-core<0.2a,>=0.1.27 in c:\\users\\admin\\anaconda3\\lib\\site-packages (from orange3) (0.1.28)\n",
      "Requirement already satisfied: baycomp>=1.0.2 in c:\\users\\admin\\anaconda3\\lib\\site-packages (from orange3) (1.0.2)\n",
      "Requirement already satisfied: pyqtgraph!=0.12.4,>=0.12.2 in c:\\users\\admin\\anaconda3\\lib\\site-packages (from orange3) (0.13.1)\n",
      "Requirement already satisfied: PyQtWebEngine>=5.12 in c:\\users\\admin\\anaconda3\\lib\\site-packages (from orange3) (5.12.1)\n",
      "Requirement already satisfied: bottleneck>=1.3.4 in c:\\users\\admin\\anaconda3\\lib\\site-packages (from orange3) (1.3.5)\n",
      "Requirement already satisfied: keyrings.alt in c:\\users\\admin\\anaconda3\\lib\\site-packages (from orange3) (4.2.0)\n",
      "Requirement already satisfied: python-louvain>=0.13 in c:\\users\\admin\\anaconda3\\lib\\site-packages (from orange3) (0.16)\n",
      "Requirement already satisfied: PyQt5!=5.15.1,>=5.12 in c:\\users\\admin\\anaconda3\\lib\\site-packages (from orange3) (5.12.3)\n",
      "Requirement already satisfied: httpx>=0.21.0 in c:\\users\\admin\\anaconda3\\lib\\site-packages (from orange3) (0.23.0)\n",
      "Requirement already satisfied: serverfiles in c:\\users\\admin\\anaconda3\\lib\\site-packages (from orange3) (0.3.1)\n",
      "Requirement already satisfied: xlrd>=1.2.0 in c:\\users\\admin\\anaconda3\\lib\\site-packages (from orange3) (2.0.1)\n",
      "Requirement already satisfied: pyyaml in c:\\users\\admin\\anaconda3\\lib\\site-packages (from orange3) (6.0)\n",
      "Requirement already satisfied: requests in c:\\users\\admin\\anaconda3\\lib\\site-packages (from orange3) (2.26.0)\n",
      "Requirement already satisfied: chardet>=3.0.2 in c:\\users\\admin\\anaconda3\\lib\\site-packages (from orange3) (4.0.0)\n",
      "Requirement already satisfied: orange-widget-base>=4.18.0 in c:\\users\\admin\\anaconda3\\lib\\site-packages (from orange3) (4.18.0)\n",
      "Requirement already satisfied: httpcore<0.16.0,>=0.15.0 in c:\\users\\admin\\anaconda3\\lib\\site-packages (from httpx>=0.21.0->orange3) (0.15.0)\n",
      "Requirement already satisfied: sniffio in c:\\users\\admin\\anaconda3\\lib\\site-packages (from httpx>=0.21.0->orange3) (1.2.0)\n",
      "Requirement already satisfied: certifi in c:\\users\\admin\\anaconda3\\lib\\site-packages (from httpx>=0.21.0->orange3) (2021.10.8)\n",
      "Requirement already satisfied: rfc3986[idna2008]<2,>=1.3 in c:\\users\\admin\\anaconda3\\lib\\site-packages (from httpx>=0.21.0->orange3) (1.5.0)\n",
      "Requirement already satisfied: h11<0.13,>=0.11 in c:\\users\\admin\\anaconda3\\lib\\site-packages (from httpcore<0.16.0,>=0.15.0->httpx>=0.21.0->orange3) (0.12.0)\n",
      "Requirement already satisfied: anyio==3.* in c:\\users\\admin\\anaconda3\\lib\\site-packages (from httpcore<0.16.0,>=0.15.0->httpx>=0.21.0->orange3) (3.6.2)\n",
      "Requirement already satisfied: idna>=2.8 in c:\\users\\admin\\anaconda3\\lib\\site-packages (from anyio==3.*->httpcore<0.16.0,>=0.15.0->httpx>=0.21.0->orange3) (3.2)\n",
      "Requirement already satisfied: pyparsing>=2.2.1 in c:\\users\\admin\\anaconda3\\lib\\site-packages (from matplotlib>=3.2.0->orange3) (3.0.4)\n",
      "Requirement already satisfied: cycler>=0.10 in c:\\users\\admin\\anaconda3\\lib\\site-packages (from matplotlib>=3.2.0->orange3) (0.10.0)\n",
      "Requirement already satisfied: kiwisolver>=1.0.1 in c:\\users\\admin\\anaconda3\\lib\\site-packages (from matplotlib>=3.2.0->orange3) (1.3.1)\n",
      "Requirement already satisfied: pillow>=6.2.0 in c:\\users\\admin\\anaconda3\\lib\\site-packages (from matplotlib>=3.2.0->orange3) (8.4.0)\n",
      "Requirement already satisfied: python-dateutil>=2.7 in c:\\users\\admin\\anaconda3\\lib\\site-packages (from matplotlib>=3.2.0->orange3) (2.8.2)\n",
      "Requirement already satisfied: six in c:\\users\\admin\\anaconda3\\lib\\site-packages (from cycler>=0.10->matplotlib>=3.2.0->orange3) (1.16.0)\n",
      "Requirement already satisfied: cachecontrol[filecache] in c:\\users\\admin\\anaconda3\\lib\\site-packages (from orange-canvas-core<0.2a,>=0.1.27->orange3) (0.12.11)\n",
      "Requirement already satisfied: qasync in c:\\users\\admin\\anaconda3\\lib\\site-packages (from orange-canvas-core<0.2a,>=0.1.27->orange3) (0.23.0)\n",
      "Requirement already satisfied: dictdiffer in c:\\users\\admin\\anaconda3\\lib\\site-packages (from orange-canvas-core<0.2a,>=0.1.27->orange3) (0.9.0)\n",
      "Requirement already satisfied: commonmark>=0.8.1 in c:\\users\\admin\\anaconda3\\lib\\site-packages (from orange-canvas-core<0.2a,>=0.1.27->orange3) (0.9.1)\n",
      "Requirement already satisfied: docutils in c:\\users\\admin\\anaconda3\\lib\\site-packages (from orange-canvas-core<0.2a,>=0.1.27->orange3) (0.17.1)\n",
      "Requirement already satisfied: typing-extensions>=3.7.4.3 in c:\\users\\admin\\anaconda3\\lib\\site-packages (from orange-widget-base>=4.18.0->orange3) (3.10.0.2)\n",
      "Requirement already satisfied: pytz>=2017.3 in c:\\users\\admin\\anaconda3\\lib\\site-packages (from pandas!=1.5.0,>=1.3.0->orange3) (2021.3)\n",
      "Requirement already satisfied: PyQt5_sip<13,>=4.19.14 in c:\\users\\admin\\anaconda3\\lib\\site-packages (from PyQt5!=5.15.1,>=5.12->orange3) (12.11.0)\n",
      "Requirement already satisfied: qtpy in c:\\users\\admin\\anaconda3\\lib\\site-packages (from qtconsole>=4.7.2->orange3) (1.10.0)\n",
      "Requirement already satisfied: pyzmq>=17.1 in c:\\users\\admin\\anaconda3\\lib\\site-packages (from qtconsole>=4.7.2->orange3) (22.2.1)\n",
      "Requirement already satisfied: traitlets in c:\\users\\admin\\anaconda3\\lib\\site-packages (from qtconsole>=4.7.2->orange3) (5.1.0)\n",
      "Requirement already satisfied: ipython-genutils in c:\\users\\admin\\anaconda3\\lib\\site-packages (from qtconsole>=4.7.2->orange3) (0.2.0)\n",
      "Requirement already satisfied: jupyter-core in c:\\users\\admin\\anaconda3\\lib\\site-packages (from qtconsole>=4.7.2->orange3) (4.8.1)\n",
      "Requirement already satisfied: jupyter-client>=4.1 in c:\\users\\admin\\anaconda3\\lib\\site-packages (from qtconsole>=4.7.2->orange3) (6.1.12)\n",
      "Requirement already satisfied: ipykernel>=4.1 in c:\\users\\admin\\anaconda3\\lib\\site-packages (from qtconsole>=4.7.2->orange3) (6.4.1)\n",
      "Requirement already satisfied: debugpy<2.0,>=1.0.0 in c:\\users\\admin\\anaconda3\\lib\\site-packages (from ipykernel>=4.1->qtconsole>=4.7.2->orange3) (1.4.1)\n",
      "Requirement already satisfied: tornado<7.0,>=4.2 in c:\\users\\admin\\anaconda3\\lib\\site-packages (from ipykernel>=4.1->qtconsole>=4.7.2->orange3) (6.1)\n",
      "Requirement already satisfied: ipython<8.0,>=7.23.1 in c:\\users\\admin\\anaconda3\\lib\\site-packages (from ipykernel>=4.1->qtconsole>=4.7.2->orange3) (7.29.0)\n",
      "Requirement already satisfied: matplotlib-inline<0.2.0,>=0.1.0 in c:\\users\\admin\\anaconda3\\lib\\site-packages (from ipykernel>=4.1->qtconsole>=4.7.2->orange3) (0.1.2)\n",
      "Requirement already satisfied: jedi>=0.16 in c:\\users\\admin\\anaconda3\\lib\\site-packages (from ipython<8.0,>=7.23.1->ipykernel>=4.1->qtconsole>=4.7.2->orange3) (0.18.0)\n",
      "Requirement already satisfied: pickleshare in c:\\users\\admin\\anaconda3\\lib\\site-packages (from ipython<8.0,>=7.23.1->ipykernel>=4.1->qtconsole>=4.7.2->orange3) (0.7.5)\n",
      "Requirement already satisfied: decorator in c:\\users\\admin\\anaconda3\\lib\\site-packages (from ipython<8.0,>=7.23.1->ipykernel>=4.1->qtconsole>=4.7.2->orange3) (5.1.0)\n",
      "Requirement already satisfied: backcall in c:\\users\\admin\\anaconda3\\lib\\site-packages (from ipython<8.0,>=7.23.1->ipykernel>=4.1->qtconsole>=4.7.2->orange3) (0.2.0)\n",
      "Requirement already satisfied: prompt-toolkit!=3.0.0,!=3.0.1,<3.1.0,>=2.0.0 in c:\\users\\admin\\anaconda3\\lib\\site-packages (from ipython<8.0,>=7.23.1->ipykernel>=4.1->qtconsole>=4.7.2->orange3) (3.0.20)\n",
      "Requirement already satisfied: colorama in c:\\users\\admin\\anaconda3\\lib\\site-packages (from ipython<8.0,>=7.23.1->ipykernel>=4.1->qtconsole>=4.7.2->orange3) (0.4.4)\n",
      "Requirement already satisfied: parso<0.9.0,>=0.8.0 in c:\\users\\admin\\anaconda3\\lib\\site-packages (from jedi>=0.16->ipython<8.0,>=7.23.1->ipykernel>=4.1->qtconsole>=4.7.2->orange3) (0.8.2)\n",
      "Requirement already satisfied: pywin32>=1.0 in c:\\users\\admin\\anaconda3\\lib\\site-packages (from jupyter-core->qtconsole>=4.7.2->orange3) (228)\n",
      "Requirement already satisfied: wcwidth in c:\\users\\admin\\anaconda3\\lib\\site-packages (from prompt-toolkit!=3.0.0,!=3.0.1,<3.1.0,>=2.0.0->ipython<8.0,>=7.23.1->ipykernel>=4.1->qtconsole>=4.7.2->orange3) (0.2.5)\n",
      "Requirement already satisfied: threadpoolctl>=2.0.0 in c:\\users\\admin\\anaconda3\\lib\\site-packages (from scikit-learn>=1.0.1->orange3) (2.2.0)\n",
      "Requirement already satisfied: msgpack>=0.5.2 in c:\\users\\admin\\anaconda3\\lib\\site-packages (from cachecontrol[filecache]->orange-canvas-core<0.2a,>=0.1.27->orange3) (1.0.2)\n",
      "Requirement already satisfied: lockfile>=0.9 in c:\\users\\admin\\anaconda3\\lib\\site-packages (from cachecontrol[filecache]->orange-canvas-core<0.2a,>=0.1.27->orange3) (0.12.2)\n",
      "Requirement already satisfied: importlib-metadata>=3.6 in c:\\users\\admin\\anaconda3\\lib\\site-packages (from keyring->orange3) (4.8.1)\n",
      "Requirement already satisfied: pywin32-ctypes!=0.1.0,!=0.1.1 in c:\\users\\admin\\anaconda3\\lib\\site-packages (from keyring->orange3) (0.2.0)\n",
      "Requirement already satisfied: zipp>=0.5 in c:\\users\\admin\\anaconda3\\lib\\site-packages (from importlib-metadata>=3.6->keyring->orange3) (3.6.0)\n",
      "Requirement already satisfied: jaraco.classes in c:\\users\\admin\\anaconda3\\lib\\site-packages (from keyrings.alt->orange3) (3.2.3)\n",
      "Requirement already satisfied: more-itertools in c:\\users\\admin\\anaconda3\\lib\\site-packages (from jaraco.classes->keyrings.alt->orange3) (8.10.0)\n",
      "Requirement already satisfied: et-xmlfile in c:\\users\\admin\\anaconda3\\lib\\site-packages (from openpyxl->orange3) (1.1.0)\n",
      "Requirement already satisfied: charset-normalizer~=2.0.0 in c:\\users\\admin\\anaconda3\\lib\\site-packages (from requests->orange3) (2.0.4)\n",
      "Requirement already satisfied: urllib3<1.27,>=1.21.1 in c:\\users\\admin\\anaconda3\\lib\\site-packages (from requests->orange3) (1.26.7)\n",
      "Note: you may need to restart the kernel to use updated packages.\n"
     ]
    }
   ],
   "source": [
    "pip install orange3"
   ]
  },
  {
   "cell_type": "code",
   "execution_count": 9,
   "id": "c398ab28",
   "metadata": {
    "scrolled": true
   },
   "outputs": [
    {
     "name": "stdout",
     "output_type": "stream",
     "text": [
      "Collecting pyqt5==5.12.3\n",
      "  Using cached PyQt5-5.12.3-5.12.10-cp35.cp36.cp37.cp38.cp39-none-win_amd64.whl (51.4 MB)\n",
      "Requirement already satisfied: PyQt5_sip<13,>=4.19.14 in c:\\users\\admin\\anaconda3\\lib\\site-packages (from pyqt5==5.12.3) (12.11.0)\n",
      "Installing collected packages: pyqt5\n",
      "  Attempting uninstall: pyqt5\n",
      "    Found existing installation: PyQt5 5.15.4\n",
      "Note: you may need to restart the kernel to use updated packages.\n",
      "    Uninstalling PyQt5-5.15.4:\n",
      "      Successfully uninstalled PyQt5-5.15.4\n",
      "Successfully installed pyqt5-5.12.3\n"
     ]
    }
   ],
   "source": [
    "pip install pyqt5==5.12.3"
   ]
  },
  {
   "cell_type": "code",
   "execution_count": 10,
   "id": "7ef0b5b2",
   "metadata": {},
   "outputs": [
    {
     "name": "stdout",
     "output_type": "stream",
     "text": [
      "Requirement already satisfied: pyqtwebengine==5.12.1 in c:\\users\\admin\\anaconda3\\lib\\site-packages (5.12.1)\n",
      "Requirement already satisfied: PyQt5>=5.12 in c:\\users\\admin\\anaconda3\\lib\\site-packages (from pyqtwebengine==5.12.1) (5.12.3)\n",
      "Requirement already satisfied: PyQt5_sip<13,>=4.19.14 in c:\\users\\admin\\anaconda3\\lib\\site-packages (from PyQt5>=5.12->pyqtwebengine==5.12.1) (12.11.0)\n",
      "Note: you may need to restart the kernel to use updated packages.\n"
     ]
    }
   ],
   "source": [
    "pip install pyqtwebengine==5.12.1"
   ]
  },
  {
   "cell_type": "code",
   "execution_count": 7,
   "id": "2978c8ef",
   "metadata": {},
   "outputs": [
    {
     "name": "stdout",
     "output_type": "stream",
     "text": [
      "Requirement already satisfied: pandas in c:\\users\\admin\\anaconda3\\lib\\site-packages (1.3.4)\n",
      "Requirement already satisfied: python-dateutil>=2.7.3 in c:\\users\\admin\\anaconda3\\lib\\site-packages (from pandas) (2.8.2)\n",
      "Requirement already satisfied: pytz>=2017.3 in c:\\users\\admin\\anaconda3\\lib\\site-packages (from pandas) (2021.3)\n",
      "Requirement already satisfied: numpy>=1.17.3 in c:\\users\\admin\\anaconda3\\lib\\site-packages (from pandas) (1.20.3)\n",
      "Requirement already satisfied: six>=1.5 in c:\\users\\admin\\anaconda3\\lib\\site-packages (from python-dateutil>=2.7.3->pandas) (1.16.0)\n",
      "Note: you may need to restart the kernel to use updated packages.\n"
     ]
    }
   ],
   "source": [
    "pip install pandas"
   ]
  },
  {
   "cell_type": "code",
   "execution_count": 11,
   "id": "5abda33e",
   "metadata": {},
   "outputs": [],
   "source": [
    "import pandas as pd\n",
    "import sklearn \n",
    "import numpy as np \n",
    "import matplotlib.pyplot as plt\n",
    "import tensorflow as tf"
   ]
  },
  {
   "cell_type": "code",
   "execution_count": 12,
   "id": "cd422558",
   "metadata": {},
   "outputs": [
    {
     "name": "stdout",
     "output_type": "stream",
     "text": [
      "Downloading data from https://storage.googleapis.com/tensorflow/keras-applications/xception/xception_weights_tf_dim_ordering_tf_kernels.h5\n",
      "91889664/91884032 [==============================] - 16s 0us/step\n",
      "91897856/91884032 [==============================] - 16s 0us/step\n"
     ]
    },
    {
     "data": {
      "text/plain": [
       "<keras.engine.functional.Functional at 0x1ea0d6cfc70>"
      ]
     },
     "execution_count": 12,
     "metadata": {},
     "output_type": "execute_result"
    }
   ],
   "source": [
    "tf.keras.applications.Xception(\n",
    "    include_top=True,\n",
    "    weights=\"imagenet\",\n",
    "    input_tensor=None,\n",
    "    input_shape=None,\n",
    "    pooling=None,\n",
    "    classes=1000,\n",
    "    classifier_activation=\"softmax\",\n",
    ")"
   ]
  },
  {
   "cell_type": "code",
   "execution_count": 10,
   "id": "ff184ae6",
   "metadata": {},
   "outputs": [],
   "source": []
  },
  {
   "cell_type": "code",
   "execution_count": null,
   "id": "9f495b78",
   "metadata": {},
   "outputs": [],
   "source": []
  }
 ],
 "metadata": {
  "kernelspec": {
   "display_name": "Python 3 (ipykernel)",
   "language": "python",
   "name": "python3"
  },
  "language_info": {
   "codemirror_mode": {
    "name": "ipython",
    "version": 3
   },
   "file_extension": ".py",
   "mimetype": "text/x-python",
   "name": "python",
   "nbconvert_exporter": "python",
   "pygments_lexer": "ipython3",
   "version": "3.9.7"
  }
 },
 "nbformat": 4,
 "nbformat_minor": 5
}
